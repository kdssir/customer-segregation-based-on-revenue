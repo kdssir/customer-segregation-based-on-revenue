{
 "cells": [
  {
   "cell_type": "markdown",
   "metadata": {},
   "source": [
    "# Customer segregation using KMeans clustering"
   ]
  },
  {
   "cell_type": "markdown",
   "metadata": {},
   "source": [
    "To segragate the customer based on SGN and Revenue data, we'll be following the below mentioned steps.\n",
    "1. Loading the data\n",
    "2. Basic Data Visuaization\n",
    "3. Data analysis\n",
    "4. Exploratory Data Analysis \n",
    "5. Visualizing the data disctirbution among all the features\n",
    "6. Finding out the correlation between the features\n",
    "7. Feature Selection\n",
    "8. Model Training\n",
    "7. Using the Elbow method to validate the value of K"
   ]
  },
  {
   "cell_type": "markdown",
   "metadata": {},
   "source": [
    "#### Step1: Load the necessary librarires"
   ]
  },
  {
   "cell_type": "code",
   "execution_count": null,
   "metadata": {},
   "outputs": [],
   "source": [
    "import seaborn as sns\n",
    "import matplotlib.pyplot as plt\n",
    "%matplotlib inline\n",
    "\n",
    "import pandas as pd\n",
    "import numpy as np\n",
    "import matplotlib\n",
    "from sklearn.cluster import KMeans\n",
    "from sklearn.preprocessing import MinMaxScaler\n",
    "\n",
    "### plotly\n",
    "from plotly.offline import init_notebook_mode, iplot\n",
    "init_notebook_mode(connected=True)\n",
    "import plotly.graph_objs as go\n",
    "import plotly.express as px\n",
    "\n",
    "from scipy.spatial.distance import cdist\n",
    "import pickle\n"
   ]
  },
  {
   "cell_type": "markdown",
   "metadata": {},
   "source": [
    "#### Step2: Load the data"
   ]
  },
  {
   "cell_type": "code",
   "execution_count": null,
   "metadata": {},
   "outputs": [],
   "source": [
    "df = pd.read_csv('..\\dataset\\dataset.csv')"
   ]
  },
  {
   "cell_type": "code",
   "execution_count": null,
   "metadata": {},
   "outputs": [],
   "source": [
    "df"
   ]
  },
  {
   "cell_type": "markdown",
   "metadata": {},
   "source": [
    "#### Step3: Exploratory Data Analysis"
   ]
  },
  {
   "cell_type": "code",
   "execution_count": null,
   "metadata": {},
   "outputs": [],
   "source": [
    "### Basic Data Visualization\n",
    "data = df.to_numpy()\n",
    "plt.scatter([data[:, 1]], data[:,0], cmap='rainbow')\n",
    "plt.grid()"
   ]
  },
  {
   "cell_type": "code",
   "execution_count": null,
   "metadata": {},
   "outputs": [],
   "source": [
    "##### see the information in the data frame\n",
    "df.info()"
   ]
  },
  {
   "cell_type": "code",
   "execution_count": null,
   "metadata": {},
   "outputs": [],
   "source": [
    "### check the basic data description\n",
    "df.describe()"
   ]
  },
  {
   "cell_type": "code",
   "execution_count": null,
   "metadata": {},
   "outputs": [],
   "source": [
    "### data cleaning\n",
    "df.isnull().sum()"
   ]
  },
  {
   "cell_type": "code",
   "execution_count": null,
   "metadata": {},
   "outputs": [],
   "source": [
    "df[df.duplicated(keep=False)]"
   ]
  },
  {
   "cell_type": "code",
   "execution_count": null,
   "metadata": {},
   "outputs": [],
   "source": [
    "### see the unique count of the columns\n",
    "df['Revenue '].count(),df.shape,df.SGN.unique()"
   ]
  },
  {
   "cell_type": "markdown",
   "metadata": {},
   "source": [
    "Since the SGN column has all the continuous and unique values, hence there is no correlation between these two features.\n",
    "<br>\n",
    "Hence discarding the SGN column from now."
   ]
  },
  {
   "cell_type": "code",
   "execution_count": null,
   "metadata": {},
   "outputs": [],
   "source": [
    "data = df['Revenue '].values\n",
    "data = np.reshape(data, (len(data), 1))\n",
    "data.shape"
   ]
  },
  {
   "cell_type": "code",
   "execution_count": null,
   "metadata": {},
   "outputs": [],
   "source": [
    "_ = df.pop('SGN')\n",
    "# Visualize the distribution of each feature.\n",
    "plt.figure(figsize=(12,16))\n",
    "for i, j in enumerate(df.describe().columns):\n",
    "    plt.subplot(5,2, i+1)\n",
    "    sns.distplot(x=df[j])\n",
    "    plt.xlabel(j)\n",
    "    plt.title('{} Distribution'.format(j))\n",
    "    # plt.subplots_adjust(wspace=.2, hspace=.5)\n",
    "    plt.tight_layout()\n",
    "plt.show()"
   ]
  },
  {
   "cell_type": "code",
   "execution_count": null,
   "metadata": {},
   "outputs": [],
   "source": [
    "# Visualize the boxplot of each feature.\n",
    "plt.figure(figsize=(12,10))\n",
    "for i, j in enumerate(df.describe().columns):\n",
    "    plt.subplot(3,3, i+1)\n",
    "    sns.boxplot(x=df[j])\n",
    "    plt.title('{} Boxplot'.format(j))\n",
    "    plt.tight_layout()\n",
    "    \n",
    "plt.show()"
   ]
  },
  {
   "cell_type": "code",
   "execution_count": 100,
   "metadata": {},
   "outputs": [],
   "source": [
    "# ## check the feature mapping\n",
    "# fig = plt.figure(figsize=(8,6))\n",
    "# sns.scatterplot(x=data[:,1], y=data[:,1])\n",
    "# plt.title('SGN vs. Revenue Scatterplot')\n",
    "# plt.savefig('scatter.png')\n",
    "# plt.show()"
   ]
  },
  {
   "cell_type": "code",
   "execution_count": 101,
   "metadata": {},
   "outputs": [],
   "source": [
    "# pairplot = sns.pairplot(df, corner=True)\n",
    "# plt.show(pairplot)"
   ]
  },
  {
   "cell_type": "code",
   "execution_count": 102,
   "metadata": {},
   "outputs": [],
   "source": [
    "# ### check the correlation between the available features\n",
    "\n",
    "# correlation_metrics=df.corr()\n",
    "# fig = plt.figure(figsize=(14,9))\n",
    "# sns.heatmap(correlation_metrics,square=True, annot=True, vmax=1, vmin=-1, cmap='RdBu')\n",
    "# plt.title('Correlation Between Variables', size=14)\n",
    "# plt.show()\n"
   ]
  },
  {
   "cell_type": "markdown",
   "metadata": {},
   "source": [
    "Skipping the correlation part, as we found all the values as unique in the SGN column\n",
    "<br>\n",
    "Hence, we can skip the SGN feature from the consideration."
   ]
  },
  {
   "cell_type": "markdown",
   "metadata": {},
   "source": [
    "#### Step4: Feature Selection"
   ]
  },
  {
   "cell_type": "code",
   "execution_count": 103,
   "metadata": {},
   "outputs": [],
   "source": [
    "# data = data[:, 1] #### exclude the SGN feature from consideration "
   ]
  },
  {
   "cell_type": "markdown",
   "metadata": {},
   "source": [
    "#### Step5: Data Preprocessing"
   ]
  },
  {
   "cell_type": "code",
   "execution_count": null,
   "metadata": {},
   "outputs": [],
   "source": [
    "## Scale the data\n",
    "scaler = MinMaxScaler()\n",
    "data_train = np.reshape(data, (len(data), 1))\n",
    "scaler.fit(data_train)\n",
    "data_norm = scaler.transform(data_train)\n",
    "data_norm"
   ]
  },
  {
   "cell_type": "markdown",
   "metadata": {},
   "source": [
    "As of now, randomly select the value of K, lets select k as 4 for now.\n",
    "<br>"
   ]
  },
  {
   "cell_type": "markdown",
   "metadata": {},
   "source": [
    "#### Step 6: Model Training"
   ]
  },
  {
   "cell_type": "code",
   "execution_count": null,
   "metadata": {},
   "outputs": [],
   "source": [
    "kmeans = KMeans(n_clusters=4, random_state=42)\n",
    "kmeans.fit(data_norm)"
   ]
  },
  {
   "cell_type": "code",
   "execution_count": null,
   "metadata": {},
   "outputs": [],
   "source": [
    "kmeans.cluster_centers_"
   ]
  },
  {
   "cell_type": "code",
   "execution_count": null,
   "metadata": {},
   "outputs": [],
   "source": [
    "kmeans.labels_"
   ]
  },
  {
   "cell_type": "code",
   "execution_count": null,
   "metadata": {},
   "outputs": [],
   "source": [
    "plt.scatter( np.zeros(len(data_norm)),data_norm,  c=kmeans.labels_, cmap='rainbow')\n",
    "plt.grid()"
   ]
  },
  {
   "cell_type": "markdown",
   "metadata": {},
   "source": [
    "#### Step7: Validate the value of K with Elbow method"
   ]
  },
  {
   "cell_type": "code",
   "execution_count": null,
   "metadata": {},
   "outputs": [],
   "source": [
    "#### validation using the Elbow method\n",
    "distortions = []\n",
    "inertias  =[]\n",
    "mapping1 = {}\n",
    "mapping2 = {}\n",
    "\n",
    "K = range(1, 10)\n",
    "\n",
    "for k in K:\n",
    "    kmeans_model = KMeans(n_clusters=k, random_state=42).fit(data_norm)\n",
    "\n",
    "    distortions.append(sum(np.mean(cdist(data_norm, kmeans_model.cluster_centers_, 'euclidean'), axis=1)**2)/data_norm.shape[0])\n",
    "\n",
    "    inertias.append(kmeans_model.inertia_)\n",
    "\n",
    "    mapping1[k] = (distortions[-1])\n",
    "    mapping2[k] = inertias[-1]\n",
    "\n",
    "\n",
    "print('Inertia values ::')\n",
    "\n",
    "for key, val in mapping2.items():\n",
    "    print(f'{key} : {val}')\n",
    "\n",
    "plt.plot(K, inertias, 'bx-', marker='o')\n",
    "plt.xlabel('Number of Clusters (k)')\n",
    "plt.ylabel('Inertia')\n",
    "plt.title('The elbow method using Inertias')\n",
    "plt.grid()\n",
    "plt.savefig(r'..\\results\\elbow.png')\n",
    "plt.show()"
   ]
  },
  {
   "cell_type": "markdown",
   "metadata": {},
   "source": [
    "Let us analyse the value of inertias, the value of intertia is getting constant beyond 6.\n",
    "<br>\n",
    "hence the perfect value of k could be 5 for this dataset.\n",
    "<br>\n",
    "Let us visualize the data eith different values of K"
   ]
  },
  {
   "cell_type": "code",
   "execution_count": null,
   "metadata": {},
   "outputs": [],
   "source": [
    "# Initialize a range of k values\n",
    "k_range = range(2, 7)\n",
    "\n",
    "# Fit and plot data for each k value\n",
    "for k in k_range:\n",
    "    kmeans = KMeans(n_clusters=k,  random_state=42)\n",
    "    y_kmeans = kmeans.fit_predict(data_norm)\n",
    "    \n",
    "    # Plot the clustered data points\n",
    "    plt.scatter(np.zeros(len(data_norm)),data_norm, c=y_kmeans, cmap='viridis', marker='o', edgecolor='k', s=100)\n",
    "    plt.title(f'K-means Clustering (k={k})')\n",
    "    plt.ylabel('Revenue')\n",
    "    plt.legend()\n",
    "    plt.grid()\n",
    "    plt.show()\n"
   ]
  },
  {
   "cell_type": "markdown",
   "metadata": {},
   "source": [
    "As per Elbow method the optimized value of K for this dataset is 6,\n",
    "<br>\n",
    "Hence, re-train the model with K=5 and see the final results"
   ]
  },
  {
   "cell_type": "markdown",
   "metadata": {},
   "source": [
    "#### Step8: Final Results"
   ]
  },
  {
   "cell_type": "code",
   "execution_count": 111,
   "metadata": {},
   "outputs": [],
   "source": [
    "kmeans = KMeans(n_clusters=5, random_state=42)\n",
    "kmeans.fit(data_norm)\n",
    "label = kmeans.fit_predict(data_norm)"
   ]
  },
  {
   "cell_type": "code",
   "execution_count": null,
   "metadata": {},
   "outputs": [],
   "source": [
    "### save the trained model\n",
    "with open(\"..\\model\\kmeans_model.pkl\", \"wb\") as f:\n",
    "    pickle.dump(kmeans, f)"
   ]
  },
  {
   "cell_type": "code",
   "execution_count": null,
   "metadata": {},
   "outputs": [],
   "source": [
    "cmap = matplotlib.cm.get_cmap('rainbow', 5)\n",
    "u_labels = np.unique(label)\n",
    "for i in u_labels:\n",
    "    data_len = len(data[label==i])\n",
    "    plt.scatter( np.zeros(data_len), data[label==i],  cmap=cmap, marker='o',  s=50, label=\"Class_\"+str(i+1))\n",
    "plt.legend(loc=\"upper right\")\n",
    "plt.axis('equal')\n",
    "plt.ylabel('Revenue')\n",
    "plt.colorbar(ticks=[])\n",
    "plt.grid()\n",
    "plt.savefig(r\"..\\results\\final_results.png\")\n",
    "plt.show()"
   ]
  }
 ],
 "metadata": {
  "kernelspec": {
   "display_name": "venv",
   "language": "python",
   "name": "python3"
  },
  "language_info": {
   "codemirror_mode": {
    "name": "ipython",
    "version": 3
   },
   "file_extension": ".py",
   "mimetype": "text/x-python",
   "name": "python",
   "nbconvert_exporter": "python",
   "pygments_lexer": "ipython3",
   "version": "3.12.2"
  }
 },
 "nbformat": 4,
 "nbformat_minor": 2
}
